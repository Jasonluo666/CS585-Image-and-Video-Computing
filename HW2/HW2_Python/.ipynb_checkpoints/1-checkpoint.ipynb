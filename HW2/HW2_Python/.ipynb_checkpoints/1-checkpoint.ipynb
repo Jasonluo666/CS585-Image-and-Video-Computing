{
 "cells": [
  {
   "cell_type": "markdown",
   "metadata": {},
   "source": [
    "# CS585 Assignment 2 Programming Part\n",
    "### Author: Jiangshan Luo\n",
    "### Uni ID: U89971259"
   ]
  },
  {
   "cell_type": "markdown",
   "metadata": {},
   "source": [
    "### <span style=\"color:blue;\"> In this notebook, I will present the method for my Python program to handle each single task in the HW2 requirement by processing an image individually and show the result for each stage.</span> \n",
    "### <span style=\"color:blue;\"> The real program (process all images) is shown in the last cell which is only the merged version of the cells above. </span> "
   ]
  },
  {
   "cell_type": "code",
   "execution_count": 1,
   "metadata": {
    "collapsed": true
   },
   "outputs": [],
   "source": [
    "import numpy as np\n",
    "import cv2\n",
    "from os import listdir, makedirs\n",
    "from os.path import isfile, join, abspath, exists\n",
    "from collections import Counter\n",
    "from IPython.display import Image as print_image\n",
    "import math"
   ]
  },
  {
   "cell_type": "code",
   "execution_count": 2,
   "metadata": {
    "collapsed": true
   },
   "outputs": [],
   "source": [
    "# read data\n",
    "data_path = abspath('./shapes_dataset/shapes_train2018')\n",
    "data_list = [join(data_path, file) for file in listdir(data_path) if isfile(join(data_path, file)) and 'jpeg' in file]\n",
    "annotation_path = abspath('./shapes_dataset/annotations')\n",
    "annotation_list = [join(annotation_path, file) for file in listdir(annotation_path) if isfile(join(annotation_path, file)) and 'png' in file]"
   ]
  },
  {
   "cell_type": "code",
   "execution_count": 3,
   "metadata": {
    "collapsed": true
   },
   "outputs": [],
   "source": [
    "test_case = 1048\n",
    "output_file = './output/' + str(test_case)\n",
    "if not exists(output_file):\n",
    "    makedirs(output_file)"
   ]
  },
  {
   "cell_type": "markdown",
   "metadata": {},
   "source": [
    "## 1. Determine the background"
   ]
  },
  {
   "cell_type": "code",
   "execution_count": 4,
   "metadata": {},
   "outputs": [
    {
     "name": "stdout",
     "output_type": "stream",
     "text": [
      "The background color is 43\n"
     ]
    },
    {
     "name": "stderr",
     "output_type": "stream",
     "text": [
      "e:\\Users\\ljsPC\\Anaconda3\\lib\\site-packages\\ipykernel_launcher.py:22: RuntimeWarning: overflow encountered in ubyte_scalars\n"
     ]
    },
    {
     "data": {
      "image/jpeg": "[encoded data removed]",
      "text/plain": [
       "<IPython.core.display.Image object>"
      ]
     },
     "execution_count": 4,
     "metadata": {},
     "output_type": "execute_result"
    }
   ],
   "source": [
    "img = cv2.imread(data_list[test_case - 1000])\n",
    "\n",
    "img_gray = cv2.cvtColor(img, cv2.COLOR_BGR2GRAY)\n",
    "\n",
    "# medianBlur -> remove the noise\n",
    "img_gray = cv2.medianBlur(img_gray,5)\n",
    "\n",
    "# find the background color\n",
    "boarder_pixel = []\n",
    "for x in range(img_gray.shape[0]):\n",
    "    for y in range(img_gray.shape[1]):\n",
    "        if x == 0 or y == 0:\n",
    "            boarder_pixel.append(img_gray[x][y])\n",
    "            \n",
    "# assume background color is the pixel value that has the maxi|mum frequency\n",
    "background_color, frequency = Counter(boarder_pixel).most_common(1)[0]\n",
    "print('The background color is', background_color)\n",
    "\n",
    "img_withoutBG = img_gray.copy()\n",
    "for x in range(img_withoutBG.shape[0]):\n",
    "    for y in range(img_withoutBG.shape[1]):\n",
    "        if(np.abs(img_withoutBG[x][y] - background_color)) < 10:\n",
    "            img_withoutBG[x][y] = 0\n",
    "            '''# Floodfill\n",
    "            h, w = img_gray.shape[:2]\n",
    "            mask = np.zeros((h + 2, w + 2), np.uint8)\n",
    "            cv2.floodFill(img_gray, mask, (x, y), 0)\n",
    "            cv2.imwrite(str(count)+'.jpeg',img_gray)\n",
    "            count = count + 1'''\n",
    "     \n",
    "cv2.imwrite(output_file + '/img_withoutBG.jpeg',img_withoutBG)\n",
    "print_image(output_file + '/img_withoutBG.jpeg')"
   ]
  },
  {
   "cell_type": "markdown",
   "metadata": {},
   "source": [
    "## 2. Label every shape blob based on color\n",
    "### <span style=\"color:blue;\">2.1 remove the noises <span/>"
   ]
  },
  {
   "cell_type": "code",
   "execution_count": 5,
   "metadata": {},
   "outputs": [
    {
     "data": {
      "text/plain": [
       "\"# test remove_surrounding_noise\\ntest_img = img_noNoise.copy()\\nremove_surrounding_noise(test_img, blob_colors)\\ncv2.imwrite('2.jpeg',test_img)\\n\\nblob_detector=[]\\nfor x in range(test_img.shape[0]):\\n    for y in range(test_img.shape[1]):\\n        if(test_img[x][y] != 0):\\n            blob_detector.append(test_img[x][y])\\nCounter(blob_detector)\""
      ]
     },
     "execution_count": 5,
     "metadata": {},
     "output_type": "execute_result"
    }
   ],
   "source": [
    "''' \n",
    "bfs(img, flag_img, seed_point=[0,0])\n",
    "\n",
    "    use BFS to find the size of each blob\n",
    "    input: \n",
    "        - img: src image\n",
    "        - flag_img: boolean map used to mark the blob\n",
    "        - seed_point: start searching point\n",
    "    output:\n",
    "        - count: size of the blob\n",
    "'''\n",
    "def bfs(img, flag_img, seed_point=[0,0]):\n",
    "    count = 1\n",
    "    matrix = [[1,0],[-1,0],[0,1],[0,-1]]\n",
    "    neighbor = [0,0]\n",
    "    flag_img[seed_point[0]][seed_point[1]] = 1\n",
    "    \n",
    "    queue = [seed_point]\n",
    "    \n",
    "    while len(queue) > 0:\n",
    "        # enqueue and dequeue\n",
    "        current_point = queue[0]\n",
    "        del queue[0]\n",
    "        \n",
    "        for element in matrix:\n",
    "            neighbor[0] = current_point[0] + element[0]\n",
    "            neighbor[1] = current_point[1] + element[1]\n",
    "            if neighbor[0] >= 0 and neighbor[1] >=0 and neighbor[0] < img.shape[0] and neighbor[1] < img.shape[1]:\n",
    "                if img[neighbor[0]][neighbor[1]] == img[seed_point[0]][seed_point[1]] and flag_img[neighbor[0]][neighbor[1]] == 0:\n",
    "                    count = count + 1\n",
    "                    flag_img[neighbor[0]][neighbor[1]] = 1\n",
    "                    queue.append(neighbor.copy())\n",
    "    \n",
    "    return count\n",
    "\n",
    "'''# test bfs\n",
    "flag = np.zeros_like(img_withoutBG)\n",
    "bfs(img_withoutBG, flag)'''\n",
    "\n",
    "'''\n",
    "remove_surrounding_noise(img, blob_color = [])\n",
    "\n",
    "    remove noise with colors other than blobs and small size blobs\n",
    "    input:\n",
    "        - img: src image\n",
    "        - blob_color: the colors of the blobs\n",
    "'''\n",
    "def remove_surrounding_noise(img, blob_color = []):\n",
    "    search_map = np.zeros_like(img)\n",
    "    \n",
    "    # remove noise with the blob colors\n",
    "    for x in range(img.shape[0]):\n",
    "        for y in range(img.shape[1]):\n",
    "            if img[x][y] in blob_color:\n",
    "                if search_map[x][y] == 0:\n",
    "                    # find the size of the image\n",
    "                    flag_map = np.zeros_like(img)\n",
    "                    blob_size = bfs(img, flag_map, [x,y])\n",
    "\n",
    "                    # update the search map\n",
    "                    search_map += flag_map\n",
    "\n",
    "                    # remove the blobs which size < 300 pixels\n",
    "                    if blob_size < 300:\n",
    "                        for x_1 in range(flag_map.shape[0]):\n",
    "                            for y_1 in range(flag_map.shape[1]):\n",
    "                                if(flag_map[x_1][y_1] == 1):\n",
    "                                    img[x_1][y_1] = 0\n",
    "            # remove noise with colors other than blobs\n",
    "            else:\n",
    "                img[x][y] = 0\n",
    "\n",
    "'''# test remove_surrounding_noise\n",
    "test_img = img_noNoise.copy()\n",
    "remove_surrounding_noise(test_img, blob_colors)\n",
    "cv2.imwrite('2.jpeg',test_img)\n",
    "\n",
    "blob_detector=[]\n",
    "for x in range(test_img.shape[0]):\n",
    "    for y in range(test_img.shape[1]):\n",
    "        if(test_img[x][y] != 0):\n",
    "            blob_detector.append(test_img[x][y])\n",
    "Counter(blob_detector)'''"
   ]
  },
  {
   "cell_type": "markdown",
   "metadata": {},
   "source": [
    "### <span style=\"color:blue;\">2.2 label blobs <span/>\n",
    "every unique grayscale color value remain in the image represent a blob"
   ]
  },
  {
   "cell_type": "code",
   "execution_count": 6,
   "metadata": {},
   "outputs": [
    {
     "data": {
      "image/jpeg": "[encoded data removed]",
      "text/plain": [
       "<IPython.core.display.Image object>"
      ]
     },
     "execution_count": 6,
     "metadata": {},
     "output_type": "execute_result"
    }
   ],
   "source": [
    "blob_detector = []\n",
    "for x in range(img_withoutBG.shape[0]):\n",
    "    for y in range(img_withoutBG.shape[1]):\n",
    "        if(img_withoutBG[x][y] != 0):\n",
    "            blob_detector.append(img_withoutBG[x][y])\n",
    "\n",
    "# assume blobs have more than 500 pixels\n",
    "counter_keys = list(Counter(blob_detector).keys())\n",
    "blob_colors = [x for x in counter_keys if Counter(blob_detector)[x] > 300]\n",
    "\n",
    "img_noNoise = img_withoutBG.copy()\n",
    "\n",
    "# remove the noise (non-blobs-color pixels and small size blobs)\n",
    "remove_surrounding_noise(img_noNoise, blob_colors)\n",
    "\n",
    "# medianBlur -> remove the noise\n",
    "img_noNoise = cv2.medianBlur(img_noNoise,5)\n",
    "\n",
    "'''#recognize the shapes\n",
    "for x in range(img_noNoise.shape[0]):\n",
    "    for y in range(img_noNoise.shape[1]):\n",
    "        if(img_noNoise[x][y] in blob_colors):\n",
    "            img_noNoise[x][y] = 255'''\n",
    "\n",
    "obj_num = 1\n",
    "for color in blob_colors:\n",
    "    blob_image = np.zeros_like(img_noNoise)\n",
    "    for x in range(img_noNoise.shape[0]):\n",
    "        for y in range(img_noNoise.shape[1]):\n",
    "            if img_noNoise[x][y] == color:\n",
    "                blob_image[x][y] = 255\n",
    "    cv2.imwrite(output_file + '/blob_' + str(obj_num) + '.jpeg', blob_image)\n",
    "    obj_num += 1\n",
    "\n",
    "cv2.imwrite(output_file + '/img_noNoise.jpeg',img_noNoise)\n",
    "print_image(output_file + '/img_noNoise.jpeg')"
   ]
  },
  {
   "cell_type": "markdown",
   "metadata": {},
   "source": [
    "## 3. Implement the boundary following algorithm"
   ]
  },
  {
   "cell_type": "code",
   "execution_count": 7,
   "metadata": {},
   "outputs": [
    {
     "data": {
      "text/plain": [
       "\"# test boundary_following\\ntest_contour = boundary_following(img_noNoise, blob_colors)\\ncv2.imwrite('3.jpeg', test_contour[0])\""
      ]
     },
     "execution_count": 7,
     "metadata": {},
     "output_type": "execute_result"
    }
   ],
   "source": [
    "'''\n",
    "boundary_following(img, blob_color)\n",
    "    \n",
    "    implementation of the boundary following algorithm\n",
    "    input: \n",
    "        - img: src image\n",
    "        - blob_color: the colors of the blobs\n",
    "    output:\n",
    "        - contour_map: a list of contour images\n",
    "'''\n",
    "def boundary_following(img, blob_color):\n",
    "    contour_map = []\n",
    "    search_map = np.zeros_like(img)\n",
    "    # clockwise start from the west\n",
    "    clockwise_matrix = [[0,-1],[-1,-1],[-1,0],[-1,1],[0,1],[1,1],[1,0],[1,-1]]\n",
    "    # boundary pixel outside R\n",
    "    b = [0,0]\n",
    "    # current pixel inside object on boundary\n",
    "    c = [0,0]\n",
    "    \n",
    "    for x in range(img.shape[0]):\n",
    "        for y in range(img.shape[1]):\n",
    "            # find the start pixel\n",
    "            if img[x][y] in blob_color and search_map[x][y] == 0 and bfs(img, search_map, [x,y]) > 300:\n",
    "                # use bfs() to update the search_map -> make sure every blob only be computed once\n",
    "                pixel_color = img[x][y]\n",
    "                \n",
    "                contour = np.zeros_like(img)\n",
    "                c = [x,y]\n",
    "                b[0] = c[0] + clockwise_matrix[0][0]\n",
    "                b[1] = c[1] + clockwise_matrix[0][1]\n",
    "                \n",
    "                finish_flag = False\n",
    "                while not finish_flag:\n",
    "                    # find next neighbor (b is supposed to start from the west neighbor outside R)\n",
    "                    neighbor = b.copy()\n",
    "                    start_index = clockwise_matrix.index([neighbor[0] - c[0], neighbor[1] - c[1]])\n",
    "                    \n",
    "                    for loop_time in range(8):\n",
    "                        neighbor[0] = c[0] + clockwise_matrix[(start_index + loop_time) % 8][0]\n",
    "                        neighbor[1] = c[1] + clockwise_matrix[(start_index + loop_time) % 8][1]\n",
    "                        \n",
    "                        # find the first neighbor inside R, update b and c\n",
    "                        if neighbor[0] >= 0 and neighbor[1] >=0 and neighbor[0] < img.shape[0] and neighbor[1] < img.shape[1] \\\n",
    "                        and img[neighbor[0]][neighbor[1]] == pixel_color:\n",
    "                                c = neighbor.copy()\n",
    "                                b = last_neighbor.copy()\n",
    "                                contour[neighbor[0]][neighbor[1]] = 255\n",
    "                                \n",
    "                                # finish\n",
    "                                if neighbor == [x,y]:\n",
    "                                    finish_flag = True\n",
    "                                \n",
    "                                break\n",
    "                        else:\n",
    "                            last_neighbor = neighbor.copy()\n",
    "                \n",
    "                contour_map.append(contour.copy())\n",
    "    \n",
    "    return np.array(contour_map)\n",
    "\n",
    "'''# test boundary_following\n",
    "test_contour = boundary_following(img_noNoise, blob_colors)\n",
    "cv2.imwrite('3.jpeg', test_contour[0])'''"
   ]
  },
  {
   "cell_type": "code",
   "execution_count": 8,
   "metadata": {},
   "outputs": [
    {
     "data": {
      "image/jpeg": "[encoded data removed]",
      "text/plain": [
       "<IPython.core.display.Image object>"
      ]
     },
     "execution_count": 8,
     "metadata": {},
     "output_type": "execute_result"
    }
   ],
   "source": [
    "contours = boundary_following(img_noNoise, blob_colors)\n",
    "\n",
    "merged_contour = np.zeros_like(img_noNoise)\n",
    "for contour in contours:\n",
    "    merged_contour += contour\n",
    "\n",
    "cv2.imwrite(output_file + '/boundary_following.jpeg', merged_contour)\n",
    "print_image(output_file + '/boundary_following.jpeg')"
   ]
  },
  {
   "cell_type": "markdown",
   "metadata": {},
   "source": [
    "## 4. Compare the boundary following algorithm with cv2.findContours"
   ]
  },
  {
   "cell_type": "code",
   "execution_count": 9,
   "metadata": {},
   "outputs": [
    {
     "data": {
      "image/jpeg": "[encoded data removed]",
      "text/plain": [
       "<IPython.core.display.Image object>"
      ]
     },
     "execution_count": 9,
     "metadata": {},
     "output_type": "execute_result"
    }
   ],
   "source": [
    "_, contours_opencv, hierarchy = cv2.findContours(img_noNoise, cv2.RETR_TREE, cv2.CHAIN_APPROX_SIMPLE)\n",
    "\n",
    "image_background = np.zeros_like(img_noNoise)\n",
    "# contourIdx=-1 draw all contours\n",
    "opencv_drawContours_result = cv2.drawContours(image_background, contours_opencv, contourIdx=-1, color=255, thickness=1)\n",
    "\n",
    "cv2.imwrite(output_file + '/opencv_drawContours_result.jpeg',opencv_drawContours_result)\n",
    "print_image(output_file + '/opencv_drawContours_result.jpeg')"
   ]
  },
  {
   "cell_type": "markdown",
   "metadata": {
    "collapsed": true
   },
   "source": [
    "## 5. Classify boundary pixels (background/another blob/image boundary)\n",
    "use the contours and blob colors gained previously to classify the boundary pixel:\n",
    "\n",
    "    - against background: have background neighbor pixel\n",
    "    - against image boundary: image boundary pixel\n",
    "    - against another blob: have neighbor pixel that belongs to one of the other blob"
   ]
  },
  {
   "cell_type": "code",
   "execution_count": 10,
   "metadata": {
    "scrolled": true
   },
   "outputs": [
    {
     "data": {
      "image/jpeg": "[encoded data removed]",
      "text/plain": [
       "<IPython.core.display.Image object>"
      ]
     },
     "execution_count": 10,
     "metadata": {},
     "output_type": "execute_result"
    }
   ],
   "source": [
    "# mark three categories with grayscale value: 80, 160, 240\n",
    "classified_contours = []\n",
    "N4_neighbor = [[-1,0],[1,0],[0,-1],[0,1]]\n",
    "neighbor = [0,0]\n",
    "\n",
    "for contour in contours:\n",
    "    classified_contour = contour.copy()\n",
    "    \n",
    "    for x in range(classified_contour.shape[0]):\n",
    "        for y in range(classified_contour.shape[1]):\n",
    "            # classify each pixel in the contour\n",
    "            if classified_contour[x][y] == 255:\n",
    "                is_background = False\n",
    "                is_boundary = False\n",
    "                \n",
    "                # find the characteristics of its neighbors\n",
    "                for element in N4_neighbor:\n",
    "                    neighbor[0] = x + element[0]\n",
    "                    neighbor[1] = y + element[1]\n",
    "                    \n",
    "                    # iamge boundary\n",
    "                    if not (neighbor[0] >= 0 and neighbor[1] >=0 and neighbor[0] < img.shape[0] and neighbor[1] < img.shape[1]):\n",
    "                        is_boundary = True\n",
    "                        break\n",
    "                    # background\n",
    "                    elif img_noNoise[neighbor[0]][neighbor[1]] == 0:\n",
    "                        is_background = True\n",
    "                        break\n",
    "                \n",
    "                if(is_background):\n",
    "                    classified_contour[x][y] = 80\n",
    "                elif(is_boundary):\n",
    "                    classified_contour[x][y] = 160\n",
    "                # others belongs to contour against other blobs\n",
    "                else:\n",
    "                    classified_contour[x][y] = 240\n",
    "\n",
    "    classified_contours.append(classified_contour)\n",
    "\n",
    "# classified_contours contains classification info of each contour\n",
    "merged_classified_contour = np.zeros_like(img_noNoise)\n",
    "for contour in classified_contours:\n",
    "    merged_classified_contour += contour\n",
    "    \n",
    "cv2.imwrite(output_file + '/merged_classified_contour.jpeg',merged_classified_contour)\n",
    "print_image(output_file + '/merged_classified_contour.jpeg')"
   ]
  },
  {
   "cell_type": "markdown",
   "metadata": {
    "collapsed": true
   },
   "source": [
    "## 5. Blob shape recognition\n",
    "\n",
    "use different attributes of the blobs to recognize their shape. For this task, part of the blob contours will be used (those against the background) because they are not influenced by other factors and are the original shape of the blobs"
   ]
  },
  {
   "cell_type": "markdown",
   "metadata": {},
   "source": [
    "### centorids and compactness"
   ]
  },
  {
   "cell_type": "code",
   "execution_count": 11,
   "metadata": {},
   "outputs": [
    {
     "name": "stdout",
     "output_type": "stream",
     "text": [
      "[[22.936781609195403, 106.35057471264368], [70.13245033112582, 77.01986754966887], [104.08982035928143, 61.34730538922156]]\n",
      "[14.60492040520984, 15.343876177658142, 15.597874720357941]\n"
     ]
    }
   ],
   "source": [
    "# find centorids of blobs in order to determine the positions of them in the annotation file\n",
    "centorids = []\n",
    "compactness = []\n",
    "\n",
    "for contour in classified_contours:\n",
    "    sum_contour = [0,0]\n",
    "    pixel_count = 0\n",
    "    blob_area = 0\n",
    "    compute_area= False\n",
    "    \n",
    "    for x in range(contour.shape[0]):\n",
    "        for y in range(contour.shape[1]):\n",
    "            if contour[x][y] != 0:\n",
    "                sum_contour[0] += x\n",
    "                sum_contour[1] += y\n",
    "                pixel_count += 1\n",
    "                \n",
    "                if not compute_area:\n",
    "                    blob_area = bfs(img_noNoise, np.zeros_like(img_noNoise), [x,y])\n",
    "                    compute_area = True\n",
    "    \n",
    "    centorids.append([sum_contour[0] / pixel_count, sum_contour[1] / pixel_count])\n",
    "    compactness.append(pixel_count ** 2 / blob_area)\n",
    "\n",
    "print(centorids)\n",
    "print(compactness)"
   ]
  },
  {
   "cell_type": "markdown",
   "metadata": {},
   "source": [
    "### approxPolyDP guess the shape"
   ]
  },
  {
   "cell_type": "code",
   "execution_count": 12,
   "metadata": {},
   "outputs": [
    {
     "data": {
      "text/plain": [
       "[4, 12, 11]"
      ]
     },
     "execution_count": 12,
     "metadata": {},
     "output_type": "execute_result"
    }
   ],
   "source": [
    "# ordered contour\n",
    "original_contours = classified_contours.copy()\n",
    "for index in range(len(original_contours)):\n",
    "    for x in range(original_contours[index].shape[0]):\n",
    "        for y in range(original_contours[index].shape[1]):\n",
    "            if original_contours[index][x][y] != 80:\n",
    "                original_contours[index][x][y] = 0\n",
    "\n",
    "shapes = []\n",
    "for contour in original_contours:\n",
    "    shape = 0\n",
    "    _, contours_opencv, hierarchy = cv2.findContours(contour, cv2.RETR_TREE, cv2.CHAIN_APPROX_SIMPLE)\n",
    "    \n",
    "    for cnt_piece in contours_opencv:\n",
    "        shape += len(cv2.approxPolyDP(np.array(cnt_piece), 10, closed=False))\n",
    "    \n",
    "    shapes.append(shape)\n",
    "    \n",
    "shapes"
   ]
  },
  {
   "cell_type": "markdown",
   "metadata": {},
   "source": [
    "### matchShapes compute the similarity"
   ]
  },
  {
   "cell_type": "code",
   "execution_count": 13,
   "metadata": {},
   "outputs": [
    {
     "data": {
      "text/plain": [
       "[[1.7976931348623157e+308, 1.7976931348623157e+308],\n",
       " [0.052851530068600994, 0.46777003930596267],\n",
       " [1.7976931348623157e+308, 1.7976931348623157e+308]]"
      ]
     },
     "execution_count": 13,
     "metadata": {},
     "output_type": "execute_result"
    }
   ],
   "source": [
    "shape_match = []\n",
    "square_sample = np.array([[0,0],[0,1],[0,2],[0,3],[0,4],[0,5],\\\n",
    "                          [1,5],[2,5],[3,5],[4,5],[5,5],\\\n",
    "                          [5,4],[5,3],[5,2],[5,1],[5,0],\\\n",
    "                          [4,0],[3,0],[2,0],[1,0],[0,0]])\n",
    "triangle_sample = np.array([[0,0],[1,np.sqrt(3)],[2,2*np.sqrt(3)],[3,3*np.sqrt(3)],\\\n",
    "                            [4,2*np.sqrt(3)],[5,np.sqrt(3)],[6,0],\\\n",
    "                            [5,0],[4,0],[3,0],[2,0],[1,0],[0,0]])\n",
    "\n",
    "for contour in original_contours:\n",
    "    _, contours_opencv, hierarchy = cv2.findContours(contour, cv2.RETR_TREE, cv2.CHAIN_APPROX_SIMPLE)\n",
    "    \n",
    "    max_piece_index = np.argmax([len(x) for x in contours_opencv])\n",
    "    \n",
    "    square_match = cv2.matchShapes(contours_opencv[max_piece_index], square_sample, 1, 0)\n",
    "    triangle_match = cv2.matchShapes(contours_opencv[max_piece_index], triangle_sample, 1, 0)\n",
    "    \n",
    "    shape_match.append([square_match, triangle_match])\n",
    "\n",
    "shape_match"
   ]
  },
  {
   "cell_type": "markdown",
   "metadata": {},
   "source": [
    "### Conclusion of the recognition"
   ]
  },
  {
   "cell_type": "code",
   "execution_count": 14,
   "metadata": {},
   "outputs": [
    {
     "data": {
      "text/plain": [
       "['square', 'circle', 'circle']"
      ]
     },
     "execution_count": 14,
     "metadata": {},
     "output_type": "execute_result"
    }
   ],
   "source": [
    "clssified_blobs = []\n",
    "for blob_index in range(len(contours)):\n",
    "    # considered to be circule\n",
    "    if shapes[blob_index] > 10 or (shapes[blob_index] >= 10 and shape_match[blob_index][0] > 10 and shape_match[blob_index][1] > 10):\n",
    "        clssified_blobs.append('circle')\n",
    "    # considered to be triangle\n",
    "    elif (shape_match[blob_index][1] < 2 and shape_match[blob_index][0] * 3 < shape_match[blob_index][1]) or (shapes[blob_index] >= 6 and shape_match[blob_index][0] > 10 and shape_match[blob_index][1] > 10):\n",
    "        clssified_blobs.append('triangle')\n",
    "    # considered to be square\n",
    "    else:\n",
    "        clssified_blobs.append('square')\n",
    "\n",
    "clssified_blobs"
   ]
  },
  {
   "cell_type": "markdown",
   "metadata": {},
   "source": [
    "## 6. Evaluation"
   ]
  },
  {
   "cell_type": "code",
   "execution_count": 15,
   "metadata": {},
   "outputs": [
    {
     "data": {
      "text/plain": [
       "{'circle_total': 1,\n",
       " 'circle_true_predict': 1,\n",
       " 'square_total': 1,\n",
       " 'square_true_predict': 1,\n",
       " 'triangle_total': 1,\n",
       " 'triangle_true_predict': 0}"
      ]
     },
     "execution_count": 15,
     "metadata": {},
     "output_type": "execute_result"
    }
   ],
   "source": [
    "relevant_annotations = [x for x in annotation_list if str(test_case) in x and 'crowd' not in x]\n",
    "\n",
    "evaluation = {'triangle_total': 0, 'triangle_true_predict': 0,\\\n",
    "              'square_total': 0, 'square_true_predict': 0,\\\n",
    "              'circle_total': 0, 'circle_true_predict': 0}\n",
    "\n",
    "for file in relevant_annotations:\n",
    "    if 'triangle' in file:\n",
    "        evaluation['triangle_total'] += 1\n",
    "    elif 'square' in file:\n",
    "        evaluation['square_total'] += 1\n",
    "    elif 'circle' in file:\n",
    "        evaluation['circle_total'] += 1\n",
    "    \n",
    "    matched_index = -1\n",
    "    verify_img = cv2.imread(file)\n",
    "    verify_img = cv2.cvtColor(verify_img, cv2.COLOR_BGR2GRAY)\n",
    "    for contour_index in range(len(original_contours)):\n",
    "        if matched_index != -1:\n",
    "            break\n",
    "        for x in range(original_contours[contour_index].shape[0]):\n",
    "            for y in range(original_contours[contour_index].shape[1]):\n",
    "                if original_contours[contour_index][x][y] != 0 and verify_img[x][y] != 0:\n",
    "                    matched_index = contour_index\n",
    "                    break\n",
    "    \n",
    "    if clssified_blobs[matched_index] in file:\n",
    "        evaluation[clssified_blobs[matched_index] + '_true_predict'] += 1\n",
    "\n",
    "evaluation"
   ]
  },
  {
   "cell_type": "code",
   "execution_count": 16,
   "metadata": {},
   "outputs": [
    {
     "name": "stdout",
     "output_type": "stream",
     "text": [
      "precision: 67.0 %\n"
     ]
    }
   ],
   "source": [
    "precision = (evaluation['triangle_true_predict'] + evaluation['square_true_predict'] + evaluation['circle_true_predict']) / \\\n",
    "            (evaluation['triangle_total'] + evaluation['square_total'] + evaluation['circle_total'])\n",
    "\n",
    "print('precision:', np.ceil(precision * 100), '%')"
   ]
  },
  {
   "cell_type": "code",
   "execution_count": null,
   "metadata": {
    "collapsed": true
   },
   "outputs": [],
   "source": [
    "txt_file = open(output_file + '/Evaluation.txt','w')\n",
    "txt_file.write(str(evaluation))\n",
    "txt_file.write('\\n')\n",
    "txt_file.write('precision:' + str(np.ceil(precision * 100)) + '%')\n",
    "txt_file.close()"
   ]
  },
  {
   "cell_type": "markdown",
   "metadata": {},
   "source": [
    "# Process all images (merge the code above)"
   ]
  },
  {
   "cell_type": "code",
   "execution_count": null,
   "metadata": {},
   "outputs": [
    {
     "name": "stdout",
     "output_type": "stream",
     "text": [
      "The background color is 178\n",
      "[[35.004347826086956, 90.25652173913043]]\n",
      "[14.308899107384367]\n",
      "precision: 0.0 %\n",
      "The background color is 139\n",
      "[[27.11464968152866, 77.97452229299363], [34.162962962962965, 34.39259259259259], [85.5618556701031, 23.5], [99.3953488372093, 100.86976744186046]]\n",
      "[9.883319967923015, 12.339201083276913, 14.893549663632767, 15.052100293064148]\n",
      "precision: 50.0 %\n",
      "The background color is 40\n",
      "[[19.961904761904762, 26.723809523809525], [54.91379310344828, 33.775862068965516], [103.92361111111111, 30.930555555555557]]\n",
      "[12.049180327868852, 10.186222558667676, 13.750663129973475]\n",
      "precision: 34.0 %\n",
      "The background color is 86\n",
      "[[48.720670391061454, 40.11731843575419], [96.4493670886076, 26.9873417721519]]\n",
      "[17.394679695982628, 15.90063694267516]\n",
      "precision: 100.0 %\n",
      "The background color is 127\n",
      "[[26.048387096774192, 66.14516129032258], [78.7289156626506, 84.26506024096386]]\n",
      "[9.713202779532534, 10.16451493913685]\n",
      "precision: 50.0 %\n",
      "The background color is 191\n",
      "[[56.845360824742265, 23.49484536082474], [81.76190476190476, 66.64285714285714], [96.81547619047619, 26.339285714285715]]\n",
      "[16.166666666666668, 11.396984924623116, 11.191118160190324]\n",
      "precision: 34.0 %\n",
      "The background color is 211\n",
      "[[58.52212389380531, 83.30973451327434], [89.56223175965665, 45.31330472103004]]\n",
      "[14.778935185185185, 15.418631070718545]\n",
      "precision: 50.0 %\n",
      "The background color is 125\n",
      "[[70.98780487804878, 68.6951219512195], [105.19402985074628, 37.55223880597015]]\n",
      "[10.651881188118812, 13.510910458991724]\n",
      "precision: 100.0 %\n",
      "The background color is 136\n",
      "[[74.65873015873017, 76.33333333333333]]\n",
      "[14.341463414634147]\n",
      "precision: 100.0 %\n",
      "The background color is 187\n",
      "[[35.125786163522015, 42.125786163522015]]\n",
      "[13.829868708971553]\n",
      "precision: 0.0 %\n",
      "The background color is 63\n",
      "[[60.0, 39.015306122448976]]\n",
      "[13.878612716763005]\n",
      "precision: 0.0 %\n",
      "The background color is 179\n",
      "[[24.811023622047244, 48.22834645669291], [102.63414634146342, 97.37073170731708]]\n",
      "[10.144025157232704, 14.792326645547343]\n",
      "precision: 0.0 %\n",
      "The background color is 154\n",
      "[[48.074074074074076, 102.74691358024691], [33.258278145695364, 26.5364238410596], [58.820809248554916, 54.98843930635838]]\n",
      "[15.056798623063683, 14.691365979381443, 17.005113636363635]\n"
     ]
    }
   ],
   "source": [
    "overall_evaluation = {'triangle_total': 0, 'triangle_true_predict': 0,\\\n",
    "                  'square_total': 0, 'square_true_predict': 0,\\\n",
    "                  'circle_total': 0, 'circle_true_predict': 0}\n",
    "\n",
    "for case in range(len(data_list)):\n",
    "    case += 1000\n",
    "    output_file = './output/' + str(case)\n",
    "    if not exists(output_file):\n",
    "        makedirs(output_file)\n",
    "\n",
    "    img = cv2.imread(data_list[case - 1000])\n",
    "\n",
    "    img_gray = cv2.cvtColor(img, cv2.COLOR_BGR2GRAY)\n",
    "\n",
    "    # medianBlur -> remove the noise\n",
    "    img_gray = cv2.medianBlur(img_gray,5)\n",
    "\n",
    "    # find the background color\n",
    "    boarder_pixel = []\n",
    "    for x in range(img_gray.shape[0]):\n",
    "        for y in range(img_gray.shape[1]):\n",
    "            if x == 0 or y == 0:\n",
    "                boarder_pixel.append(img_gray[x][y])\n",
    "\n",
    "    # assume background color is the pixel value that has the maxi|mum frequency\n",
    "    background_color, frequency = Counter(boarder_pixel).most_common(1)[0]\n",
    "    print('The background color is', background_color)\n",
    "\n",
    "    img_withoutBG = img_gray.copy()\n",
    "    for x in range(img_withoutBG.shape[0]):\n",
    "        for y in range(img_withoutBG.shape[1]):\n",
    "            if(img_withoutBG[x][y] == background_color):\n",
    "                img_withoutBG[x][y] = 0\n",
    "                '''# Floodfill\n",
    "                h, w = img_gray.shape[:2]\n",
    "                mask = np.zeros((h + 2, w + 2), np.uint8)\n",
    "                cv2.floodFill(img_gray, mask, (x, y), 0)\n",
    "                cv2.imwrite(str(count)+'.jpeg',img_gray)\n",
    "                count = count + 1'''\n",
    "\n",
    "    cv2.imwrite(output_file + '/img_withoutBG.jpeg',img_withoutBG)\n",
    "    print_image(output_file + '/img_withoutBG.jpeg')\n",
    "\n",
    "    blob_detector = []\n",
    "    for x in range(img_withoutBG.shape[0]):\n",
    "        for y in range(img_withoutBG.shape[1]):\n",
    "            if(img_withoutBG[x][y] != 0):\n",
    "                blob_detector.append(img_withoutBG[x][y])\n",
    "\n",
    "    # assume blobs have more than 500 pixels\n",
    "    counter_keys = list(Counter(blob_detector).keys())\n",
    "    blob_colors = [x for x in counter_keys if Counter(blob_detector)[x] > 300]\n",
    "\n",
    "    img_noNoise = img_withoutBG.copy()\n",
    "\n",
    "    # remove the noise (non-blobs-color pixels and small size blobs)\n",
    "    remove_surrounding_noise(img_noNoise, blob_colors)\n",
    "\n",
    "    # medianBlur -> remove the noise\n",
    "    img_noNoise = cv2.medianBlur(img_noNoise,5)\n",
    "\n",
    "    '''#recognize the shapes\n",
    "    for x in range(img_noNoise.shape[0]):\n",
    "        for y in range(img_noNoise.shape[1]):\n",
    "            if(img_noNoise[x][y] in blob_colors):\n",
    "                img_noNoise[x][y] = 255'''\n",
    "\n",
    "    cv2.imwrite(output_file + '/img_noNoise.jpeg',img_noNoise)\n",
    "    print_image(output_file + '/img_noNoise.jpeg')\n",
    "    \n",
    "    obj_num = 1\n",
    "    for color in blob_colors:\n",
    "        blob_image = np.zeros_like(img_noNoise)\n",
    "        for x in range(img_noNoise.shape[0]):\n",
    "            for y in range(img_noNoise.shape[1]):\n",
    "                if img_noNoise[x][y] == color:\n",
    "                    blob_image[x][y] = 255\n",
    "        cv2.imwrite(output_file + '/blob_' + str(obj_num) + '.jpeg', blob_image)\n",
    "        obj_num += 1\n",
    "\n",
    "    contours = boundary_following(img_noNoise, blob_colors)\n",
    "\n",
    "    merged_contour = np.zeros_like(img_noNoise)\n",
    "    for contour in contours:\n",
    "        merged_contour += contour\n",
    "\n",
    "    cv2.imwrite(output_file + '/boundary_following.jpeg', merged_contour)\n",
    "    print_image(output_file + '/boundary_following.jpeg')\n",
    "\n",
    "    _, contours_opencv, hierarchy = cv2.findContours(img_noNoise, cv2.RETR_TREE, cv2.CHAIN_APPROX_SIMPLE)\n",
    "\n",
    "    image_background = np.zeros_like(img_noNoise)\n",
    "    # contourIdx=-1 draw all contours\n",
    "    opencv_drawContours_result = cv2.drawContours(image_background, contours_opencv, contourIdx=-1, color=255, thickness=1)\n",
    "\n",
    "    cv2.imwrite(output_file + '/opencv_drawContours_result.jpeg',opencv_drawContours_result)\n",
    "    print_image(output_file + '/opencv_drawContours_result.jpeg')\n",
    "\n",
    "    # mark three categories with grayscale value: 80, 160, 240\n",
    "    classified_contours = []\n",
    "    N4_neighbor = [[-1,0],[1,0],[0,-1],[0,1]]\n",
    "    neighbor = [0,0]\n",
    "\n",
    "    for contour in contours:\n",
    "        classified_contour = contour.copy()\n",
    "\n",
    "        for x in range(classified_contour.shape[0]):\n",
    "            for y in range(classified_contour.shape[1]):\n",
    "                # classify each pixel in the contour\n",
    "                if classified_contour[x][y] == 255:\n",
    "                    is_background = False\n",
    "                    is_boundary = False\n",
    "\n",
    "                    # find the characteristics of its neighbors\n",
    "                    for element in N4_neighbor:\n",
    "                        neighbor[0] = x + element[0]\n",
    "                        neighbor[1] = y + element[1]\n",
    "\n",
    "                        # iamge boundary\n",
    "                        if not (neighbor[0] >= 0 and neighbor[1] >=0 and neighbor[0] < img.shape[0] and neighbor[1] < img.shape[1]):\n",
    "                            is_boundary = True\n",
    "                            break\n",
    "                        # background\n",
    "                        elif img_noNoise[neighbor[0]][neighbor[1]] == 0:\n",
    "                            is_background = True\n",
    "                            break\n",
    "\n",
    "                    if(is_background):\n",
    "                        classified_contour[x][y] = 80\n",
    "                    elif(is_boundary):\n",
    "                        classified_contour[x][y] = 160\n",
    "                    # others belongs to contour against other blobs\n",
    "                    else:\n",
    "                        classified_contour[x][y] = 240\n",
    "\n",
    "        classified_contours.append(classified_contour)\n",
    "\n",
    "    # classified_contours contains classification info of each contour\n",
    "    merged_classified_contour = np.zeros_like(img_noNoise)\n",
    "    for contour in classified_contours:\n",
    "        merged_classified_contour += contour\n",
    "\n",
    "    cv2.imwrite(output_file + '/merged_classified_contour.jpeg',merged_classified_contour)\n",
    "    print_image(output_file + '/merged_classified_contour.jpeg')\n",
    "\n",
    "    # find centorids of blobs in order to determine the positions of them in the annotation file\n",
    "    centorids = []\n",
    "    compactness = []\n",
    "\n",
    "    for contour in classified_contours:\n",
    "        sum_contour = [0,0]\n",
    "        pixel_count = 0\n",
    "        blob_area = 0\n",
    "        compute_area= False\n",
    "\n",
    "        for x in range(contour.shape[0]):\n",
    "            for y in range(contour.shape[1]):\n",
    "                if contour[x][y] != 0:\n",
    "                    sum_contour[0] += x\n",
    "                    sum_contour[1] += y\n",
    "                    pixel_count += 1\n",
    "\n",
    "                    if not compute_area:\n",
    "                        blob_area = bfs(img_noNoise, np.zeros_like(img_noNoise), [x,y])\n",
    "                        compute_area = True\n",
    "\n",
    "        centorids.append([sum_contour[0] / pixel_count, sum_contour[1] / pixel_count])\n",
    "        compactness.append(pixel_count ** 2 / blob_area)\n",
    "\n",
    "    print(centorids)\n",
    "    print(compactness)\n",
    "\n",
    "    # ordered contour\n",
    "    original_contours = classified_contours.copy()\n",
    "    for index in range(len(original_contours)):\n",
    "        for x in range(original_contours[index].shape[0]):\n",
    "            for y in range(original_contours[index].shape[1]):\n",
    "                if original_contours[index][x][y] != 80:\n",
    "                    original_contours[index][x][y] = 0\n",
    "\n",
    "    shapes = []\n",
    "    for contour in original_contours:\n",
    "        shape = 0\n",
    "        _, contours_opencv, hierarchy = cv2.findContours(contour, cv2.RETR_TREE, cv2.CHAIN_APPROX_SIMPLE)\n",
    "\n",
    "        for cnt_piece in contours_opencv:\n",
    "            shape += len(cv2.approxPolyDP(np.array(cnt_piece), 10, closed=False))\n",
    "\n",
    "        shapes.append(shape)\n",
    "\n",
    "    shapes\n",
    "\n",
    "    shape_match = []\n",
    "    square_sample = np.array([[0,0],[0,1],[0,2],[0,3],[0,4],[0,5],\\\n",
    "                              [1,5],[2,5],[3,5],[4,5],[5,5],\\\n",
    "                              [5,4],[5,3],[5,2],[5,1],[5,0],\\\n",
    "                              [4,0],[3,0],[2,0],[1,0],[0,0]])\n",
    "    triangle_sample = np.array([[0,0],[1,np.sqrt(3)],[2,2*np.sqrt(3)],[3,3*np.sqrt(3)],\\\n",
    "                                [4,2*np.sqrt(3)],[5,np.sqrt(3)],[6,0],\\\n",
    "                                [5,0],[4,0],[3,0],[2,0],[1,0],[0,0]])\n",
    "\n",
    "    for contour in original_contours:\n",
    "        _, contours_opencv, hierarchy = cv2.findContours(contour, cv2.RETR_TREE, cv2.CHAIN_APPROX_SIMPLE)\n",
    "\n",
    "        max_piece_index = np.argmax([len(x) for x in contours_opencv])\n",
    "\n",
    "        square_match = cv2.matchShapes(contours_opencv[max_piece_index], square_sample, 1, 0)\n",
    "        triangle_match = cv2.matchShapes(contours_opencv[max_piece_index], triangle_sample, 1, 0)\n",
    "\n",
    "        shape_match.append([square_match, triangle_match])\n",
    "\n",
    "    shape_match\n",
    "\n",
    "    clssified_blobs = []\n",
    "    for blob_index in range(len(contours)):\n",
    "        # considered to be circule\n",
    "        if shapes[blob_index] > 10 or (shapes[blob_index] >= 10 and shape_match[blob_index][0] > 10 and shape_match[blob_index][1] > 10):\n",
    "            clssified_blobs.append('circle')\n",
    "        # considered to be triangle\n",
    "        elif (shape_match[blob_index][1] < 2 and shape_match[blob_index][0] * 3 < shape_match[blob_index][1]) or (shapes[blob_index] >= 6 and shape_match[blob_index][0] > 10 and shape_match[blob_index][1] > 10):\n",
    "            clssified_blobs.append('triangle')\n",
    "        # considered to be square\n",
    "        else:\n",
    "            clssified_blobs.append('square')\n",
    "\n",
    "    clssified_blobs\n",
    "\n",
    "    relevant_annotations = [x for x in annotation_list if str(case) in x]\n",
    "\n",
    "    evaluation = {'triangle_total': 0, 'triangle_true_predict': 0,\\\n",
    "                  'square_total': 0, 'square_true_predict': 0,\\\n",
    "                  'circle_total': 0, 'circle_true_predict': 0}\n",
    "\n",
    "    for file in relevant_annotations:\n",
    "        if 'triangle' in file:\n",
    "            evaluation['triangle_total'] += 1\n",
    "        elif 'square' in file:\n",
    "            evaluation['square_total'] += 1\n",
    "        elif 'circle' in file:\n",
    "            evaluation['circle_total'] += 1\n",
    "\n",
    "        matched_index = -1\n",
    "        verify_img = cv2.imread(file)\n",
    "        verify_img = cv2.cvtColor(verify_img, cv2.COLOR_BGR2GRAY)\n",
    "        for contour_index in range(len(original_contours)):\n",
    "            if matched_index != -1:\n",
    "                break\n",
    "            for x in range(original_contours[contour_index].shape[0]):\n",
    "                for y in range(original_contours[contour_index].shape[1]):\n",
    "                    if original_contours[contour_index][x][y] != 0 and verify_img[x][y] != 0:\n",
    "                        matched_index = contour_index\n",
    "                        break\n",
    "\n",
    "        if clssified_blobs[matched_index] in file:\n",
    "            evaluation[clssified_blobs[matched_index] + '_true_predict'] += 1\n",
    "\n",
    "    evaluation\n",
    "\n",
    "    precision = (evaluation['triangle_true_predict'] + evaluation['square_true_predict'] + evaluation['circle_true_predict']) / \\\n",
    "                (evaluation['triangle_total'] + evaluation['square_total'] + evaluation['circle_total'])\n",
    "\n",
    "    print('precision:', np.ceil(precision * 100), '%')\n",
    "\n",
    "    txt_file = open(output_file + '/Evaluation.txt','w')\n",
    "    txt_file.write(str(evaluation))\n",
    "    txt_file.write('\\n')\n",
    "    txt_file.write('precision:' + str(np.ceil(precision * 100)) + '%')\n",
    "    txt_file.close()\n",
    "    \n",
    "    for key in overall_evaluation.keys():\n",
    "        overall_evaluation[key] += evaluation[key]\n",
    "\n",
    "precision = (overall_evaluation['triangle_true_predict'] + overall_evaluation['square_true_predict'] + overall_evaluation['circle_true_predict']) / \\\n",
    "                (overall_evaluation['triangle_total'] + overall_evaluation['square_total'] + overall_evaluation['circle_total'])\n",
    "\n",
    "txt_file = open('./output/Overall_Evaluation.txt','w')\n",
    "txt_file.write(str(overall_evaluation))\n",
    "txt_file.write('\\n')\n",
    "txt_file.write('precision:' + str(np.ceil(precision * 100)) + '%')\n",
    "txt_file.close()"
   ]
  },
  {
   "cell_type": "code",
   "execution_count": null,
   "metadata": {
    "collapsed": true
   },
   "outputs": [],
   "source": []
  }
 ],
 "metadata": {
  "kernelspec": {
   "display_name": "Python 3",
   "language": "python",
   "name": "python3"
  },
  "language_info": {
   "codemirror_mode": {
    "name": "ipython",
    "version": 3
   },
   "file_extension": ".py",
   "mimetype": "text/x-python",
   "name": "python",
   "nbconvert_exporter": "python",
   "pygments_lexer": "ipython3",
   "version": "3.6.3"
  }
 },
 "nbformat": 4,
 "nbformat_minor": 2
}
